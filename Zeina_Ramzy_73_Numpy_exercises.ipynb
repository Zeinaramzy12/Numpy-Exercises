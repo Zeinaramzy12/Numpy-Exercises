{
  "cells": [
    {
      "cell_type": "markdown",
      "id": "3c1222ff",
      "metadata": {
        "id": "3c1222ff"
      },
      "source": [
        "#### 1. Import the numpy package under the name `np` (★☆☆)"
      ]
    },
    {
      "cell_type": "code",
      "execution_count": 1,
      "id": "f52e6a0b",
      "metadata": {
        "id": "f52e6a0b"
      },
      "outputs": [],
      "source": [
        "import numpy as np"
      ]
    },
    {
      "cell_type": "markdown",
      "id": "9d9f4753",
      "metadata": {
        "id": "9d9f4753"
      },
      "source": [
        "#### 2. Print the numpy version and the configuration (★☆☆)"
      ]
    },
    {
      "cell_type": "code",
      "execution_count": 2,
      "id": "b7fa5fa1",
      "metadata": {
        "colab": {
          "base_uri": "https://localhost:8080/",
          "height": 36
        },
        "id": "b7fa5fa1",
        "outputId": "b9831bc0-f80b-4cef-8e06-dec3a331fd1d"
      },
      "outputs": [
        {
          "data": {
            "text/plain": [
              "'1.24.3'"
            ]
          },
          "execution_count": 2,
          "metadata": {},
          "output_type": "execute_result"
        }
      ],
      "source": [
        "np.__version__"
      ]
    },
    {
      "cell_type": "markdown",
      "id": "3e4c23c6",
      "metadata": {
        "id": "3e4c23c6"
      },
      "source": [
        "#### 3. Create a null vector of size 10 (★☆☆)"
      ]
    },
    {
      "cell_type": "code",
      "execution_count": 3,
      "id": "083c5c46",
      "metadata": {
        "colab": {
          "base_uri": "https://localhost:8080/"
        },
        "id": "083c5c46",
        "outputId": "de6e6318-f724-4002-cba0-04036697b17e"
      },
      "outputs": [
        {
          "data": {
            "text/plain": [
              "array([            nan,             nan, 5.98117618e-114, 1.96565562e-062,\n",
              "       6.01334504e-154, 1.35717430e+131, 8.95393586e-096, 5.98149210e-154,\n",
              "       6.01347002e-154, 6.35226583e-067])"
            ]
          },
          "execution_count": 3,
          "metadata": {},
          "output_type": "execute_result"
        }
      ],
      "source": [
        "np.empty(10)"
      ]
    },
    {
      "cell_type": "markdown",
      "id": "c38bbe82",
      "metadata": {
        "id": "c38bbe82"
      },
      "source": [
        "#### 4. How to find the memory size of any array (★☆☆)"
      ]
    },
    {
      "cell_type": "code",
      "execution_count": 4,
      "id": "02b04021",
      "metadata": {
        "colab": {
          "base_uri": "https://localhost:8080/"
        },
        "id": "02b04021",
        "outputId": "3cc965d1-659a-4e93-abf6-635ee72cd2eb"
      },
      "outputs": [
        {
          "name": "stdout",
          "output_type": "stream",
          "text": [
            "80\n",
            "80\n"
          ]
        }
      ],
      "source": [
        "print(np.empty(10).size * np.empty(10).itemsize)\n",
        "print(np.empty(10).nbytes)"
      ]
    },
    {
      "cell_type": "markdown",
      "id": "67f893d4",
      "metadata": {
        "id": "67f893d4"
      },
      "source": [
        "#### 5. How to get the documentation of the numpy add function from the command line? (★☆☆)"
      ]
    },
    {
      "cell_type": "code",
      "execution_count": null,
      "id": "40e6b70d",
      "metadata": {
        "id": "40e6b70d"
      },
      "outputs": [],
      "source": [
        "np.add?"
      ]
    },
    {
      "cell_type": "markdown",
      "id": "e0c739c6",
      "metadata": {
        "id": "e0c739c6"
      },
      "source": [
        "#### 6. Create a null vector of size 10 but the fifth value which is 1 (★☆☆)"
      ]
    },
    {
      "cell_type": "code",
      "execution_count": 5,
      "id": "bcceacf7",
      "metadata": {
        "colab": {
          "base_uri": "https://localhost:8080/"
        },
        "id": "bcceacf7",
        "outputId": "e3027aed-3437-41cf-866f-b0af19a2a9f0"
      },
      "outputs": [
        {
          "name": "stdout",
          "output_type": "stream",
          "text": [
            "[[0.]\n",
            " [0.]\n",
            " [0.]\n",
            " [0.]\n",
            " [0.]\n",
            " [1.]\n",
            " [0.]\n",
            " [0.]\n",
            " [0.]\n",
            " [0.]]\n"
          ]
        }
      ],
      "source": [
        "empty_a=np.zeros(10).reshape(10,1)\n",
        "empty_a[5]=1\n",
        "print(empty_a)"
      ]
    },
    {
      "cell_type": "markdown",
      "id": "fbebedab",
      "metadata": {
        "id": "fbebedab"
      },
      "source": [
        "#### 7. Create a vector with values ranging from 10 to 49 (★☆☆)"
      ]
    },
    {
      "cell_type": "code",
      "execution_count": 6,
      "id": "3d117d54",
      "metadata": {
        "colab": {
          "base_uri": "https://localhost:8080/"
        },
        "id": "3d117d54",
        "outputId": "b200d48d-9bba-4898-8f3d-50220dc7a993"
      },
      "outputs": [
        {
          "name": "stdout",
          "output_type": "stream",
          "text": [
            "[10 11 12 13 14 15 16 17 18 19 20 21 22 23 24 25 26 27 28 29 30 31 32 33\n",
            " 34 35 36 37 38 39 40 41 42 43 44 45 46 47 48]\n"
          ]
        }
      ],
      "source": [
        "ranging=np.arange(10,49)\n",
        "print(ranging)"
      ]
    },
    {
      "cell_type": "markdown",
      "id": "ad0bff02",
      "metadata": {
        "id": "ad0bff02"
      },
      "source": [
        "#### 8. Reverse a vector (first element becomes last) (★☆☆)"
      ]
    },
    {
      "cell_type": "code",
      "execution_count": 7,
      "id": "22d23470",
      "metadata": {
        "colab": {
          "base_uri": "https://localhost:8080/"
        },
        "id": "22d23470",
        "outputId": "1d9e404a-089a-499c-8177-7089d6eb6d87"
      },
      "outputs": [
        {
          "name": "stdout",
          "output_type": "stream",
          "text": [
            "[1 2 3 4]\n",
            "[4 3 2 1]\n"
          ]
        }
      ],
      "source": [
        "vec=np.array([1,2,3,4])\n",
        "print(vec)\n",
        "reverse_vec=vec[::-1]\n",
        "print(reverse_vec)"
      ]
    },
    {
      "cell_type": "markdown",
      "id": "9f59d7e1",
      "metadata": {
        "id": "9f59d7e1"
      },
      "source": [
        "#### 9. Create a 3x3 matrix with values ranging from 0 to 8 (★☆☆)"
      ]
    },
    {
      "cell_type": "code",
      "execution_count": 8,
      "id": "7449e82d",
      "metadata": {
        "colab": {
          "base_uri": "https://localhost:8080/"
        },
        "id": "7449e82d",
        "outputId": "cfa47567-8e81-4cc1-c683-3d09e92c2fd8"
      },
      "outputs": [
        {
          "name": "stdout",
          "output_type": "stream",
          "text": [
            "[[0 1 2]\n",
            " [3 4 5]\n",
            " [6 7 8]]\n"
          ]
        }
      ],
      "source": [
        "matrix1=np.arange(0,9).reshape(3,3)\n",
        "print(matrix1)"
      ]
    },
    {
      "cell_type": "markdown",
      "id": "f374c4cf",
      "metadata": {
        "id": "f374c4cf"
      },
      "source": [
        "#### 10. Find indices of non-zero elements from [1,2,0,0,4,0] (★☆☆)"
      ]
    },
    {
      "cell_type": "code",
      "execution_count": 9,
      "id": "1a84bed8",
      "metadata": {
        "colab": {
          "base_uri": "https://localhost:8080/"
        },
        "id": "1a84bed8",
        "outputId": "18af3829-91ff-4ba1-e312-43094900ff52"
      },
      "outputs": [
        {
          "data": {
            "text/plain": [
              "(array([0, 1, 4], dtype=int64),)"
            ]
          },
          "execution_count": 9,
          "metadata": {},
          "output_type": "execute_result"
        }
      ],
      "source": [
        "np.nonzero(np.array([1,2,0,0,4,0]))"
      ]
    },
    {
      "cell_type": "markdown",
      "id": "9c4707f5",
      "metadata": {
        "id": "9c4707f5"
      },
      "source": [
        "#### 11. Create a 3x3 identity matrix (★☆☆)"
      ]
    },
    {
      "cell_type": "code",
      "execution_count": 10,
      "id": "29dc1fd3",
      "metadata": {
        "colab": {
          "base_uri": "https://localhost:8080/"
        },
        "id": "29dc1fd3",
        "outputId": "1bd5c8b1-298e-4b59-a4ef-f2d96a6221b6"
      },
      "outputs": [
        {
          "data": {
            "text/plain": [
              "array([[1., 0., 0.],\n",
              "       [0., 1., 0.],\n",
              "       [0., 0., 1.]])"
            ]
          },
          "execution_count": 10,
          "metadata": {},
          "output_type": "execute_result"
        }
      ],
      "source": [
        "np.eye(3)"
      ]
    },
    {
      "cell_type": "markdown",
      "id": "3bac294a",
      "metadata": {
        "id": "3bac294a"
      },
      "source": [
        "#### 12. Create a 3x3x3 array with random values (★☆☆)"
      ]
    },
    {
      "cell_type": "code",
      "execution_count": 11,
      "id": "eadfae67",
      "metadata": {
        "colab": {
          "base_uri": "https://localhost:8080/"
        },
        "id": "eadfae67",
        "outputId": "aa93ce54-c453-46f3-bc51-11e3d22bad74"
      },
      "outputs": [
        {
          "name": "stdout",
          "output_type": "stream",
          "text": [
            "[[[10  7 18]\n",
            "  [ 3 17  3]\n",
            "  [15  9 18]]\n",
            "\n",
            " [[18  7  3]\n",
            "  [ 3 11  9]\n",
            "  [ 8  7  1]]\n",
            "\n",
            " [[15 12  8]\n",
            "  [17  5 16]\n",
            "  [17  2 12]]]\n"
          ]
        }
      ],
      "source": [
        "matrix2=np.random.randint(1,20,27).reshape(3,3,3)\n",
        "print(matrix2)"
      ]
    },
    {
      "cell_type": "markdown",
      "id": "466c2989",
      "metadata": {
        "id": "466c2989"
      },
      "source": [
        "#### 13. Create a 10x10 array with random values and find the minimum and maximum values (★☆☆)"
      ]
    },
    {
      "cell_type": "code",
      "execution_count": 12,
      "id": "9a74dbfc",
      "metadata": {
        "colab": {
          "base_uri": "https://localhost:8080/"
        },
        "id": "9a74dbfc",
        "outputId": "c11e6172-e003-4206-9386-c4bef6babdc3"
      },
      "outputs": [
        {
          "name": "stdout",
          "output_type": "stream",
          "text": [
            "[[0.07316157 0.2328658  0.68398965 0.49263794 0.10684324 0.66609895\n",
            "  0.05978883 0.77248952 0.0565577  0.6334625 ]\n",
            " [0.89079532 0.53892501 0.96128114 0.65435031 0.72213796 0.82846086\n",
            "  0.98085838 0.57982758 0.31118742 0.67091615]\n",
            " [0.22017143 0.9018985  0.95949051 0.79325479 0.22418047 0.93099471\n",
            "  0.45723509 0.52086335 0.09610686 0.83356654]\n",
            " [0.79451044 0.90359891 0.35504355 0.87207369 0.78756959 0.7774847\n",
            "  0.68437902 0.40929747 0.86239564 0.34111072]\n",
            " [0.77086321 0.22467848 0.83342154 0.45514576 0.26093021 0.83303685\n",
            "  0.13046173 0.43919938 0.87952913 0.97549601]\n",
            " [0.25874123 0.72994581 0.13046536 0.00751819 0.74447038 0.04878113\n",
            "  0.04948215 0.38437097 0.45674333 0.09121277]\n",
            " [0.36905676 0.80515659 0.63109774 0.05831013 0.19593933 0.54362888\n",
            "  0.39803105 0.37285442 0.31761696 0.89033699]\n",
            " [0.89127797 0.83201848 0.66744641 0.38171534 0.84097349 0.98957157\n",
            "  0.47604038 0.27104988 0.40167385 0.36557286]\n",
            " [0.78259984 0.88857888 0.23963095 0.26667355 0.48325692 0.71658904\n",
            "  0.59564473 0.71578818 0.30409147 0.96497561]\n",
            " [0.23032891 0.8398551  0.92952857 0.63590555 0.01028227 0.52645267\n",
            "  0.89898319 0.39534025 0.99384517 0.69944954]]\n",
            "the minimum number in this array :  0.007518192902567278\n",
            "the maximum number in this array :  0.9938451707785307\n"
          ]
        }
      ],
      "source": [
        "matrix3=np.random.rand(10,10)\n",
        "print(matrix3)\n",
        "print(\"the minimum number in this array : \" , np.min(matrix3))\n",
        "print(\"the maximum number in this array : \" , np.max(matrix3))"
      ]
    },
    {
      "cell_type": "markdown",
      "id": "53a8edb2",
      "metadata": {
        "id": "53a8edb2"
      },
      "source": [
        "#### 14. Create a random vector of size 30 and find the mean value (★☆☆)"
      ]
    },
    {
      "cell_type": "code",
      "execution_count": 13,
      "id": "6691530b",
      "metadata": {
        "colab": {
          "base_uri": "https://localhost:8080/"
        },
        "id": "6691530b",
        "outputId": "5e94a42d-9516-4ae2-a619-32ab1cea516c"
      },
      "outputs": [
        {
          "name": "stdout",
          "output_type": "stream",
          "text": [
            "[ 0  5  2  1 14 18 18  0 10  3 19  3  4 19 14  7  5  0 19 17  3 18 19 17\n",
            "  0 12  1  6  3  0]\n",
            "the mean value of this vector :  8.566666666666666\n"
          ]
        }
      ],
      "source": [
        "vec1=np.random.randint(0,20,30)\n",
        "print(vec1)\n",
        "print(\"the mean value of this vector : \" , np.mean(vec1))"
      ]
    },
    {
      "cell_type": "markdown",
      "id": "cbaad31c",
      "metadata": {
        "id": "cbaad31c"
      },
      "source": [
        "#### 15. Create a 2d array with 1 on the border and 0 inside (★☆☆)"
      ]
    },
    {
      "cell_type": "code",
      "execution_count": 14,
      "id": "ad8308e3",
      "metadata": {
        "colab": {
          "base_uri": "https://localhost:8080/"
        },
        "id": "ad8308e3",
        "outputId": "4d764714-81fa-4df7-b384-0cfa692df5d1"
      },
      "outputs": [
        {
          "data": {
            "text/plain": [
              "array([[1., 1., 1., 1., 1., 1., 1., 1., 1., 1.],\n",
              "       [1., 0., 0., 0., 0., 0., 0., 0., 0., 1.],\n",
              "       [1., 0., 0., 0., 0., 0., 0., 0., 0., 1.],\n",
              "       [1., 0., 0., 0., 0., 0., 0., 0., 0., 1.],\n",
              "       [1., 0., 0., 0., 0., 0., 0., 0., 0., 1.],\n",
              "       [1., 0., 0., 0., 0., 0., 0., 0., 0., 1.],\n",
              "       [1., 0., 0., 0., 0., 0., 0., 0., 0., 1.],\n",
              "       [1., 0., 0., 0., 0., 0., 0., 0., 0., 1.],\n",
              "       [1., 0., 0., 0., 0., 0., 0., 0., 0., 1.],\n",
              "       [1., 1., 1., 1., 1., 1., 1., 1., 1., 1.]])"
            ]
          },
          "execution_count": 14,
          "metadata": {},
          "output_type": "execute_result"
        }
      ],
      "source": [
        "a = np.ones((10,10))\n",
        "a[1:-1,1:-1]=0\n",
        "a"
      ]
    },
    {
      "cell_type": "markdown",
      "id": "c5ecc267",
      "metadata": {
        "id": "c5ecc267"
      },
      "source": [
        "#### 16. How to add a border (filled with 0's) around an existing array? (★☆☆)"
      ]
    },
    {
      "cell_type": "code",
      "execution_count": 15,
      "id": "9d5c78c4",
      "metadata": {
        "colab": {
          "base_uri": "https://localhost:8080/"
        },
        "id": "9d5c78c4",
        "outputId": "027496fc-6759-45f1-82c0-b84085f13b05"
      },
      "outputs": [
        {
          "data": {
            "text/plain": [
              "array([[0., 0., 0., 0., 0., 0., 0.],\n",
              "       [0., 1., 1., 1., 1., 1., 0.],\n",
              "       [0., 1., 1., 1., 1., 1., 0.],\n",
              "       [0., 1., 1., 1., 1., 1., 0.],\n",
              "       [0., 1., 1., 1., 1., 1., 0.],\n",
              "       [0., 1., 1., 1., 1., 1., 0.],\n",
              "       [0., 0., 0., 0., 0., 0., 0.]])"
            ]
          },
          "execution_count": 15,
          "metadata": {},
          "output_type": "execute_result"
        }
      ],
      "source": [
        "a = np.ones((5,5))\n",
        "a = np.pad(a,1)\n",
        "a"
      ]
    },
    {
      "cell_type": "markdown",
      "id": "ef909b72",
      "metadata": {
        "id": "ef909b72"
      },
      "source": [
        "#### 17. What is the result of the following expression? (★☆☆)\n",
        "```python\n",
        "0 * np.nan\n",
        "np.nan == np.nan\n",
        "np.inf > np.nan\n",
        "np.nan - np.nan\n",
        "np.nan in set([np.nan])\n",
        "0.3 == 3 * 0.1\n",
        "```"
      ]
    },
    {
      "cell_type": "code",
      "execution_count": 16,
      "id": "3b4985f2",
      "metadata": {
        "colab": {
          "base_uri": "https://localhost:8080/"
        },
        "id": "3b4985f2",
        "outputId": "45205c57-3848-4395-c2da-c15661faf776"
      },
      "outputs": [],
      "source": [
        "#0 * np.nan -> np.nan (because anything by np.nan = np.nan)\n",
        "#np.nan==np.nan -> False (because in numpy np.nan not equal itself )\n",
        "#np.inf>np.nan ->False\n",
        "#np.nan-np.nan -> np.nan (because anything subtract np.nan gives np.nan)\n",
        "#np.nan in set([np.nan]) ->True\n",
        "#0.3 == 3*0.1 -> False"
      ]
    },
    {
      "cell_type": "markdown",
      "id": "502738ac",
      "metadata": {
        "id": "502738ac"
      },
      "source": [
        "#### 18. Create a 5x5 matrix with values 1,2,3,4 just below the diagonal (★☆☆)"
      ]
    },
    {
      "cell_type": "code",
      "execution_count": 17,
      "id": "faed6e2b",
      "metadata": {
        "colab": {
          "base_uri": "https://localhost:8080/"
        },
        "id": "faed6e2b",
        "outputId": "54182e9b-2252-446f-b58e-f76aa0ca4e3b"
      },
      "outputs": [
        {
          "name": "stdout",
          "output_type": "stream",
          "text": [
            "[[0. 0. 0. 0. 0.]\n",
            " [0. 0. 0. 0. 0.]\n",
            " [0. 0. 0. 0. 0.]\n",
            " [0. 0. 0. 0. 0.]\n",
            " [0. 0. 0. 0. 0.]]\n",
            "\n",
            "[[0. 0. 0. 0. 0.]\n",
            " [1. 0. 0. 0. 0.]\n",
            " [0. 2. 0. 0. 0.]\n",
            " [0. 0. 3. 0. 0.]\n",
            " [0. 0. 0. 4. 0.]]\n"
          ]
        }
      ],
      "source": [
        "matrix4=np.zeros((5,5))\n",
        "print(matrix4)\n",
        "print()\n",
        "nums=[1,2,3,4]\n",
        "np.fill_diagonal(matrix4[1:],nums)\n",
        "print(matrix4)"
      ]
    },
    {
      "cell_type": "markdown",
      "id": "a65da660",
      "metadata": {
        "id": "a65da660"
      },
      "source": [
        "#### 19. Create a 8x8 matrix and fill it with a checkerboard pattern (★☆☆)"
      ]
    },
    {
      "cell_type": "code",
      "execution_count": 18,
      "id": "ed150400",
      "metadata": {
        "colab": {
          "base_uri": "https://localhost:8080/"
        },
        "id": "ed150400",
        "outputId": "1736d7ce-9449-44b9-d4e7-80d026637d78"
      },
      "outputs": [
        {
          "name": "stdout",
          "output_type": "stream",
          "text": [
            "[[1. 0. 1. 0. 1. 0. 1. 0.]\n",
            " [0. 1. 0. 1. 0. 1. 0. 1.]\n",
            " [1. 0. 1. 0. 1. 0. 1. 0.]\n",
            " [0. 1. 0. 1. 0. 1. 0. 1.]\n",
            " [1. 0. 1. 0. 1. 0. 1. 0.]\n",
            " [0. 1. 0. 1. 0. 1. 0. 1.]\n",
            " [1. 0. 1. 0. 1. 0. 1. 0.]\n",
            " [0. 1. 0. 1. 0. 1. 0. 1.]]\n"
          ]
        }
      ],
      "source": [
        "matrix5=np.zeros((8,8))\n",
        "matrix5[::2,::2]=1\n",
        "matrix5[1::2,1::2]=1\n",
        "print(matrix5)"
      ]
    },
    {
      "cell_type": "markdown",
      "id": "9f7f9c49",
      "metadata": {
        "id": "9f7f9c49"
      },
      "source": [
        "#### 20. Consider a (6,7,8) shape array, what is the index (x,y,z) of the 100th element? (★☆☆)"
      ]
    },
    {
      "cell_type": "code",
      "execution_count": 19,
      "id": "3782b5a9",
      "metadata": {
        "colab": {
          "base_uri": "https://localhost:8080/"
        },
        "id": "3782b5a9",
        "outputId": "2d11868a-54d4-4aa5-b87a-2fbdb6d4535a"
      },
      "outputs": [
        {
          "name": "stdout",
          "output_type": "stream",
          "text": [
            "(1, 5, 4)\n"
          ]
        }
      ],
      "source": [
        "inDex=np.unravel_index(100,(6,7,8))\n",
        "print(inDex)"
      ]
    },
    {
      "cell_type": "markdown",
      "id": "66bfda35",
      "metadata": {
        "id": "66bfda35"
      },
      "source": [
        "#### 21. Create a checkerboard 8x8 matrix using the tile function (★☆☆)"
      ]
    },
    {
      "cell_type": "code",
      "execution_count": 20,
      "id": "4c07477c",
      "metadata": {
        "colab": {
          "base_uri": "https://localhost:8080/"
        },
        "id": "4c07477c",
        "outputId": "4f617f46-efc3-40c3-e37a-5533faa03dad"
      },
      "outputs": [
        {
          "name": "stdout",
          "output_type": "stream",
          "text": [
            "[[0 1 0 1 0 1 0 1]\n",
            " [1 0 1 0 1 0 1 0]\n",
            " [0 1 0 1 0 1 0 1]\n",
            " [1 0 1 0 1 0 1 0]\n",
            " [0 1 0 1 0 1 0 1]\n",
            " [1 0 1 0 1 0 1 0]\n",
            " [0 1 0 1 0 1 0 1]\n",
            " [1 0 1 0 1 0 1 0]]\n"
          ]
        }
      ],
      "source": [
        "matrix6=np.array([[0,1],[1,0]])\n",
        "matrix7=np.tile(matrix6,(4,4))\n",
        "print(matrix7)"
      ]
    },
    {
      "cell_type": "markdown",
      "id": "d5bcfc08",
      "metadata": {
        "id": "d5bcfc08"
      },
      "source": [
        "#### 22. Normalize a 5x5 random matrix (★☆☆)"
      ]
    },
    {
      "cell_type": "code",
      "execution_count": 21,
      "id": "cea6c993",
      "metadata": {
        "colab": {
          "base_uri": "https://localhost:8080/"
        },
        "id": "cea6c993",
        "outputId": "568aa996-7436-4f7e-c4f8-f287c1678033"
      },
      "outputs": [
        {
          "name": "stdout",
          "output_type": "stream",
          "text": [
            "[[ 5  7 18 14  5]\n",
            " [ 7  9 14  3  7]\n",
            " [ 9 11  4 11 11]\n",
            " [17 14 11 14 17]\n",
            " [ 2  8 10  6  1]]\n",
            "\n",
            "The normalized matrix : \n",
            "  [[0.23529412 0.35294118 1.         0.76470588 0.23529412]\n",
            " [0.35294118 0.47058824 0.76470588 0.11764706 0.35294118]\n",
            " [0.47058824 0.58823529 0.17647059 0.58823529 0.58823529]\n",
            " [0.94117647 0.76470588 0.58823529 0.76470588 0.94117647]\n",
            " [0.05882353 0.41176471 0.52941176 0.29411765 0.        ]]\n"
          ]
        }
      ],
      "source": [
        "matrix7=np.random.randint(1,20,25).reshape(5,5)\n",
        "print(matrix7)\n",
        "print()\n",
        "maximum=np.max(matrix7)\n",
        "minimum=np.min(matrix7)\n",
        "normalization=(matrix7-minimum)/(maximum-minimum)\n",
        "print(\"The normalized matrix : \\n \" ,normalization )"
      ]
    },
    {
      "cell_type": "markdown",
      "id": "f9a0911e",
      "metadata": {
        "id": "f9a0911e"
      },
      "source": [
        "#### 23. Create a custom dtype that describes a color as four unsigned bytes (RGBA) (★☆☆)"
      ]
    },
    {
      "cell_type": "code",
      "execution_count": 22,
      "id": "d165044b",
      "metadata": {
        "colab": {
          "base_uri": "https://localhost:8080/"
        },
        "id": "d165044b",
        "outputId": "a96faf13-c19f-4628-93ea-2b632432f5ab"
      },
      "outputs": [
        {
          "name": "stdout",
          "output_type": "stream",
          "text": [
            "(255, 0, 0, 128)\n",
            "red 255 \n",
            " green 0 \n",
            " blue 0 \n",
            " alpha 128\n"
          ]
        }
      ],
      "source": [
        "custom_dtype=np.dtype([('red' ,np.uint8 ),('green',np.uint8),('blue',np.uint8),('alpha',np.uint8)])\n",
        "colors=np.array((255,0,0,128),dtype=custom_dtype)\n",
        "print(colors)\n",
        "red_color=colors['red']\n",
        "green_color=colors['green']\n",
        "blue_color=colors['blue']\n",
        "alpha_color=colors['alpha']\n",
        "print(f\"red {red_color} \\n green {green_color} \\n blue {blue_color} \\n alpha {alpha_color}\")"
      ]
    },
    {
      "cell_type": "markdown",
      "id": "654805b1",
      "metadata": {
        "id": "654805b1"
      },
      "source": [
        "#### 24. Multiply a 5x3 matrix by a 3x2 matrix (real matrix product) (★☆☆)"
      ]
    },
    {
      "cell_type": "code",
      "execution_count": 23,
      "id": "6a42619f",
      "metadata": {
        "colab": {
          "base_uri": "https://localhost:8080/"
        },
        "id": "6a42619f",
        "outputId": "ff175995-38e6-4984-d2f0-7a968016b440"
      },
      "outputs": [
        {
          "name": "stdout",
          "output_type": "stream",
          "text": [
            "[[ 61  65]\n",
            " [ 77  43]\n",
            " [ 21  23]\n",
            " [111 112]\n",
            " [ 44  51]]\n"
          ]
        }
      ],
      "source": [
        "matrix8=np.random.randint(0,10,15).reshape(5,3)\n",
        "matrix9=np.random.randint(0,10,6).reshape(3,2)\n",
        "matrix10=np.dot(matrix8,matrix9)\n",
        "print(matrix10)"
      ]
    },
    {
      "cell_type": "markdown",
      "id": "994c25df",
      "metadata": {
        "id": "994c25df"
      },
      "source": [
        "#### 25. Given a 1D array, negate all elements which are between 3 and 8, in place. (★☆☆)"
      ]
    },
    {
      "cell_type": "code",
      "execution_count": 24,
      "id": "e4b39c03",
      "metadata": {
        "colab": {
          "base_uri": "https://localhost:8080/"
        },
        "id": "e4b39c03",
        "outputId": "b9bd147d-62fe-4b07-cc6f-4f58a20c3deb"
      },
      "outputs": [
        {
          "name": "stdout",
          "output_type": "stream",
          "text": [
            "[ 9  1 -7  0 -3 -3 -5 -4 -5  1]\n"
          ]
        }
      ],
      "source": [
        "matrix11=np.random.randint(0,10,10)\n",
        "num=(matrix11>=3) & (matrix11<=8)\n",
        "matrix11[num] *= -1\n",
        "print(matrix11)"
      ]
    },
    {
      "cell_type": "markdown",
      "id": "b7d15d1a",
      "metadata": {
        "id": "b7d15d1a"
      },
      "source": [
        "#### 26. What is the output of the following script? (★☆☆)\n",
        "```python\n",
        "# Author: Jake VanderPlas\n",
        "\n",
        "print(sum(range(5),-1))\n",
        "from numpy import *\n",
        "print(sum(range(5),-1))\n",
        "```"
      ]
    },
    {
      "cell_type": "code",
      "execution_count": 25,
      "id": "4c95bc3f",
      "metadata": {
        "colab": {
          "base_uri": "https://localhost:8080/"
        },
        "id": "4c95bc3f",
        "outputId": "87910e19-f782-4d5c-c23b-5a19b82fa994"
      },
      "outputs": [
        {
          "name": "stdout",
          "output_type": "stream",
          "text": [
            "9\n",
            "10\n"
          ]
        }
      ],
      "source": [
        "print(sum(range(5),-1))\n",
        "from numpy import *\n",
        "print(sum(range(5),-1))"
      ]
    },
    {
      "cell_type": "markdown",
      "id": "a34f0d08",
      "metadata": {
        "id": "a34f0d08"
      },
      "source": [
        "#### 27. Consider an integer vector Z, which of these expressions are legal? (★☆☆)\n",
        "```python\n",
        "Z**Z\n",
        "2 << Z >> 2\n",
        "Z <- Z\n",
        "1j*Z\n",
        "Z/1/1\n",
        "Z<Z>Z\n",
        "```"
      ]
    },
    {
      "cell_type": "code",
      "execution_count": 26,
      "id": "564658fc",
      "metadata": {
        "id": "564658fc"
      },
      "outputs": [],
      "source": [
        "#z**z , 2<<z>>2 , z <- z , 1j*z  and z/1/1 (legal)\n",
        "#z<z>z (illegal)"
      ]
    },
    {
      "cell_type": "markdown",
      "id": "c34e94bf",
      "metadata": {
        "id": "c34e94bf"
      },
      "source": [
        "#### 28. What are the result of the following expressions? (★☆☆)\n",
        "```python\n",
        "np.array(0) / np.array(0)\n",
        "np.array(0) // np.array(0)\n",
        "np.array([np.nan]).astype(int).astype(float)\n",
        "```"
      ]
    },
    {
      "cell_type": "code",
      "execution_count": 27,
      "id": "56663562",
      "metadata": {
        "id": "56663562"
      },
      "outputs": [],
      "source": [
        "#np.array(0) / np.array(0) will give me a nan\n",
        "#np.array(0) // np.array(0) will give me an error because it divided by zero which is illegal (undefined)\n",
        "#np.array([np.nan]).astype(int).astype(float)  will give me array with one element contains 0.0 (as a float number)"
      ]
    },
    {
      "cell_type": "markdown",
      "id": "546f5e7b",
      "metadata": {
        "id": "546f5e7b"
      },
      "source": [
        "#### 29. How to round away from zero a float array ? (★☆☆)"
      ]
    },
    {
      "cell_type": "code",
      "execution_count": 28,
      "id": "f725a6d2",
      "metadata": {
        "colab": {
          "base_uri": "https://localhost:8080/"
        },
        "id": "f725a6d2",
        "outputId": "5013492e-4055-4c29-ae44-ead1d6967949"
      },
      "outputs": [
        {
          "name": "stdout",
          "output_type": "stream",
          "text": [
            "[ 3.4  2.3  5.7  3.6 23.1]\n",
            "[ 4.  3.  6.  4. 24.]\n",
            "[ 3.  2.  5.  3. 23.]\n"
          ]
        }
      ],
      "source": [
        "arrayy=np.array([3.4,2.3,5.7,3.6,23.1])\n",
        "float_up=np.ceil(arrayy)\n",
        "float_down=np.floor(arrayy)\n",
        "print(arrayy)\n",
        "print(float_up)\n",
        "print(float_down)"
      ]
    },
    {
      "cell_type": "markdown",
      "id": "eadca856",
      "metadata": {
        "id": "eadca856"
      },
      "source": [
        "#### 30. How to find common values between two arrays? (★☆☆)"
      ]
    },
    {
      "cell_type": "code",
      "execution_count": 29,
      "id": "e0270b5b",
      "metadata": {
        "colab": {
          "base_uri": "https://localhost:8080/"
        },
        "id": "e0270b5b",
        "outputId": "88ef4a7b-d565-4221-a2e4-9b8d4dfd03fd"
      },
      "outputs": [
        {
          "name": "stdout",
          "output_type": "stream",
          "text": [
            "[1 2 5]\n"
          ]
        }
      ],
      "source": [
        "array1=np.array([1,7,2,5,24])\n",
        "array2=np.array([1,87,5,65,2])\n",
        "array_intersect=np.intersect1d(array1,array2)\n",
        "print(array_intersect)"
      ]
    },
    {
      "cell_type": "markdown",
      "id": "ca16ca22",
      "metadata": {
        "id": "ca16ca22"
      },
      "source": [
        "#### 31. How to ignore all numpy warnings (not recommended)? (★☆☆)"
      ]
    },
    {
      "cell_type": "code",
      "execution_count": 30,
      "id": "7d7208ef",
      "metadata": {
        "id": "7d7208ef"
      },
      "outputs": [],
      "source": [
        "#np.warning.filterwarnings('ignore')"
      ]
    },
    {
      "cell_type": "markdown",
      "id": "c7871d0d",
      "metadata": {
        "id": "c7871d0d"
      },
      "source": [
        "#### 32. Is the following expressions true? (★☆☆)\n",
        "```python\n",
        "np.sqrt(-1) == np.emath.sqrt(-1)\n",
        "```"
      ]
    },
    {
      "cell_type": "code",
      "execution_count": 31,
      "id": "acc3701a",
      "metadata": {
        "id": "acc3701a"
      },
      "outputs": [],
      "source": [
        "#no ,first expression will result a complex number which is ij\n",
        "#    second expression will result a nan"
      ]
    },
    {
      "cell_type": "markdown",
      "id": "e0433e30",
      "metadata": {
        "id": "e0433e30"
      },
      "source": [
        "#### 33. How to get the dates of yesterday, today and tomorrow? (★☆☆)"
      ]
    },
    {
      "cell_type": "code",
      "execution_count": 32,
      "id": "9c4d2152",
      "metadata": {
        "colab": {
          "base_uri": "https://localhost:8080/"
        },
        "id": "9c4d2152",
        "outputId": "dfa2f455-a4ea-489a-e9d5-a6322975e737"
      },
      "outputs": [
        {
          "name": "stdout",
          "output_type": "stream",
          "text": [
            "yesterday :  2024-01-12\n",
            "today :  2024-01-13\n",
            "tomorrow :  2024-01-14\n"
          ]
        }
      ],
      "source": [
        "from datetime import datetime , timedelta\n",
        "today =datetime.now().date()\n",
        "yesterday = today -timedelta(days=1)\n",
        "tomorrow=today +timedelta(days=1)\n",
        "print(\"yesterday : \",yesterday )\n",
        "print(\"today : \",today)\n",
        "print(\"tomorrow : \",tomorrow)"
      ]
    },
    {
      "cell_type": "markdown",
      "id": "9f52a2ef",
      "metadata": {
        "id": "9f52a2ef"
      },
      "source": [
        "#### 34. How to get all the dates corresponding to the month of July 2016? (★★☆)"
      ]
    },
    {
      "cell_type": "code",
      "execution_count": 33,
      "id": "VAJ0Vw5N_yBf",
      "metadata": {
        "colab": {
          "base_uri": "https://localhost:8080/"
        },
        "id": "VAJ0Vw5N_yBf",
        "outputId": "532fb913-3117-44c1-ceb2-3095a9e13dba"
      },
      "outputs": [
        {
          "name": "stdout",
          "output_type": "stream",
          "text": [
            "2016-07-01T00:00:00.000000\n",
            "2016-07-02T00:00:00.000000\n",
            "2016-07-03T00:00:00.000000\n",
            "2016-07-04T00:00:00.000000\n",
            "2016-07-05T00:00:00.000000\n",
            "2016-07-06T00:00:00.000000\n",
            "2016-07-07T00:00:00.000000\n",
            "2016-07-08T00:00:00.000000\n",
            "2016-07-09T00:00:00.000000\n",
            "2016-07-10T00:00:00.000000\n",
            "2016-07-11T00:00:00.000000\n",
            "2016-07-12T00:00:00.000000\n",
            "2016-07-13T00:00:00.000000\n",
            "2016-07-14T00:00:00.000000\n",
            "2016-07-15T00:00:00.000000\n",
            "2016-07-16T00:00:00.000000\n",
            "2016-07-17T00:00:00.000000\n",
            "2016-07-18T00:00:00.000000\n",
            "2016-07-19T00:00:00.000000\n",
            "2016-07-20T00:00:00.000000\n",
            "2016-07-21T00:00:00.000000\n",
            "2016-07-22T00:00:00.000000\n",
            "2016-07-23T00:00:00.000000\n",
            "2016-07-24T00:00:00.000000\n",
            "2016-07-25T00:00:00.000000\n",
            "2016-07-26T00:00:00.000000\n",
            "2016-07-27T00:00:00.000000\n",
            "2016-07-28T00:00:00.000000\n",
            "2016-07-29T00:00:00.000000\n",
            "2016-07-30T00:00:00.000000\n",
            "2016-07-31T00:00:00.000000\n"
          ]
        }
      ],
      "source": [
        "import numpy as np\n",
        "import datetime\n",
        "start_date = datetime.date(2016, 7, 1)\n",
        "end_date = datetime.date(2016, 7, 31)\n",
        "dates = np.arange(start_date, end_date + datetime.timedelta(days=1), datetime.timedelta(days=1))\n",
        "for date in dates :\n",
        "  print(date)"
      ]
    },
    {
      "cell_type": "markdown",
      "id": "4a64e059",
      "metadata": {
        "id": "4a64e059"
      },
      "source": [
        "#### 35. How to compute ((A+B)*(-A/2)) in place (without copy)? (★★☆)"
      ]
    },
    {
      "cell_type": "code",
      "execution_count": 34,
      "id": "f712vJhg_0Zn",
      "metadata": {
        "colab": {
          "base_uri": "https://localhost:8080/"
        },
        "id": "f712vJhg_0Zn",
        "outputId": "264a5243-2172-4a49-8265-08e952f57192"
      },
      "outputs": [
        {
          "name": "stdout",
          "output_type": "stream",
          "text": [
            "[-3. -4. -5.]\n"
          ]
        }
      ],
      "source": [
        "A=np.array([1,2,3],dtype=np.float16)\n",
        "B=np.array([5,6,7],dtype=np.float16)\n",
        "A += B\n",
        "A *= -0.5\n",
        "print(A)"
      ]
    },
    {
      "cell_type": "markdown",
      "id": "8a98c2a8",
      "metadata": {
        "id": "8a98c2a8"
      },
      "source": [
        "#### 36. Extract the integer part of a random array of positive numbers using 4 different methods (★★☆)"
      ]
    },
    {
      "cell_type": "code",
      "execution_count": 35,
      "id": "yVDmibrQ_3Du",
      "metadata": {
        "colab": {
          "base_uri": "https://localhost:8080/"
        },
        "id": "yVDmibrQ_3Du",
        "outputId": "e1735ad5-7a49-4f43-e759-e7f3b86acdec"
      },
      "outputs": [
        {
          "name": "stdout",
          "output_type": "stream",
          "text": [
            "method 1:  [4 9 3 1 7]\n",
            "method 2:  [4. 9. 3. 1. 7.]\n",
            "method 3:  [4, 9, 3, 1, 7]\n",
            "method 4:  [4. 9. 3. 1. 7.]\n"
          ]
        }
      ],
      "source": [
        "rand_array=np.random.rand(5) * 10\n",
        "intrand=rand_array.astype(int)\n",
        "print(\"method 1: \" ,intrand)\n",
        "intrand2=np.floor(rand_array)\n",
        "print(\"method 2: \",intrand2)\n",
        "intrand3=[int(x) for x in rand_array]\n",
        "print(\"method 3: \",intrand3)\n",
        "intrand4=np.trunc(rand_array)\n",
        "print(\"method 4: \",intrand4)"
      ]
    },
    {
      "cell_type": "markdown",
      "id": "5a2e3d85",
      "metadata": {
        "id": "5a2e3d85"
      },
      "source": [
        "#### 37. Create a 5x5 matrix with row values ranging from 0 to 4 (★★☆)"
      ]
    },
    {
      "cell_type": "code",
      "execution_count": 36,
      "id": "1d974e8f",
      "metadata": {
        "colab": {
          "base_uri": "https://localhost:8080/"
        },
        "id": "1d974e8f",
        "outputId": "8c77a8e9-ed19-4455-cd68-3cd4b16fe167"
      },
      "outputs": [
        {
          "name": "stdout",
          "output_type": "stream",
          "text": [
            "[[0 1 2 3 4]\n",
            " [0 1 2 3 4]\n",
            " [0 1 2 3 4]\n",
            " [0 1 2 3 4]\n",
            " [0 1 2 3 4]]\n"
          ]
        }
      ],
      "source": [
        "matrix13=np.tile(range(5),(5,1))\n",
        "print(matrix13)"
      ]
    },
    {
      "cell_type": "markdown",
      "id": "9720e2d5",
      "metadata": {
        "id": "9720e2d5"
      },
      "source": [
        "#### 38. Consider a generator function that generates 10 integers and use it to build an array (★☆☆)"
      ]
    },
    {
      "cell_type": "code",
      "execution_count": 37,
      "id": "e5dd8fc9",
      "metadata": {
        "colab": {
          "base_uri": "https://localhost:8080/"
        },
        "id": "e5dd8fc9",
        "outputId": "f7dd696c-dd3e-4ab1-c77b-a0130a26dcd4"
      },
      "outputs": [
        {
          "name": "stdout",
          "output_type": "stream",
          "text": [
            "[ 1  2  3  4  5  6  7  8  9 10]\n"
          ]
        }
      ],
      "source": [
        "def generator():\n",
        "  for i in range(1,11):\n",
        "    yield i\n",
        "array22=np.array(list(generator()))\n",
        "print(array22)"
      ]
    },
    {
      "cell_type": "markdown",
      "id": "c6f2c912",
      "metadata": {
        "id": "c6f2c912"
      },
      "source": [
        "#### 39. Create a vector of size 10 with values ranging from 0 to 1, both excluded (★★☆)"
      ]
    },
    {
      "cell_type": "code",
      "execution_count": 38,
      "id": "6aaa27d3",
      "metadata": {
        "colab": {
          "base_uri": "https://localhost:8080/"
        },
        "id": "6aaa27d3",
        "outputId": "fef76dba-c605-4634-ee47-f11205e1968f"
      },
      "outputs": [
        {
          "data": {
            "text/plain": [
              "array([0.09090909, 0.18181818, 0.27272727, 0.36363636, 0.45454545,\n",
              "       0.54545455, 0.63636364, 0.72727273, 0.81818182, 0.90909091])"
            ]
          },
          "execution_count": 38,
          "metadata": {},
          "output_type": "execute_result"
        }
      ],
      "source": [
        "vec22=np.linspace(0,1,12)\n",
        "vec22=vec22[1:-1]\n",
        "vec22"
      ]
    },
    {
      "cell_type": "markdown",
      "id": "a36d6ee4",
      "metadata": {
        "id": "a36d6ee4"
      },
      "source": [
        "#### 40. Create a random vector of size 10 and sort it (★★☆)"
      ]
    },
    {
      "cell_type": "code",
      "execution_count": 39,
      "id": "e589d216",
      "metadata": {
        "colab": {
          "base_uri": "https://localhost:8080/"
        },
        "id": "e589d216",
        "outputId": "d15b81f1-bf37-4c11-d1d7-b85df6fdf4ee"
      },
      "outputs": [
        {
          "name": "stdout",
          "output_type": "stream",
          "text": [
            "[6 4 1 2 5 3 0 7 3 5]\n",
            "[0, 1, 2, 3, 3, 4, 5, 5, 6, 7]\n"
          ]
        }
      ],
      "source": [
        "vec2=np.random.randint(0,10,10)\n",
        "print(vec2)\n",
        "vec3=sorted(vec2)\n",
        "print(vec3)"
      ]
    },
    {
      "cell_type": "markdown",
      "id": "024ac365",
      "metadata": {
        "id": "024ac365"
      },
      "source": [
        "#### 41. Consider two random array A and B, check if they are equal (★★☆)"
      ]
    },
    {
      "cell_type": "code",
      "execution_count": 40,
      "id": "7db3846d",
      "metadata": {
        "colab": {
          "base_uri": "https://localhost:8080/"
        },
        "id": "7db3846d",
        "outputId": "b6b18071-8fac-4e14-d052-d45f23226f02"
      },
      "outputs": [
        {
          "name": "stdout",
          "output_type": "stream",
          "text": [
            "True\n"
          ]
        }
      ],
      "source": [
        "matrix20=np.array([1,2,3])\n",
        "matrix21=np.array([1,2,3])\n",
        "print(np.array_equal(matrix20,matrix21))"
      ]
    },
    {
      "cell_type": "markdown",
      "id": "c68d2401",
      "metadata": {
        "id": "c68d2401"
      },
      "source": [
        "#### 42. Make an array immutable (read-only) (★★☆)"
      ]
    },
    {
      "cell_type": "code",
      "execution_count": 41,
      "id": "7828539d",
      "metadata": {
        "colab": {
          "base_uri": "https://localhost:8080/",
          "height": 234
        },
        "id": "7828539d",
        "outputId": "0c32229e-1c6d-4b5a-9b7b-d1b1f46c80f9"
      },
      "outputs": [
        {
          "ename": "ValueError",
          "evalue": "assignment destination is read-only",
          "output_type": "error",
          "traceback": [
            "\u001b[1;31m---------------------------------------------------------------------------\u001b[0m",
            "\u001b[1;31mValueError\u001b[0m                                Traceback (most recent call last)",
            "Cell \u001b[1;32mIn[41], line 3\u001b[0m\n\u001b[0;32m      1\u001b[0m arr\u001b[38;5;241m=\u001b[39mnp\u001b[38;5;241m.\u001b[39marray([\u001b[38;5;241m1\u001b[39m,\u001b[38;5;241m2\u001b[39m,\u001b[38;5;241m3\u001b[39m,\u001b[38;5;241m4\u001b[39m])\n\u001b[0;32m      2\u001b[0m arr\u001b[38;5;241m.\u001b[39mflags\u001b[38;5;241m.\u001b[39mwriteable\u001b[38;5;241m=\u001b[39m\u001b[38;5;28;01mFalse\u001b[39;00m\n\u001b[1;32m----> 3\u001b[0m \u001b[43marr\u001b[49m\u001b[43m[\u001b[49m\u001b[38;5;241;43m0\u001b[39;49m\u001b[43m]\u001b[49m\u001b[38;5;241m=\u001b[39m\u001b[38;5;241m2\u001b[39m\n\u001b[0;32m      4\u001b[0m arr\n",
            "\u001b[1;31mValueError\u001b[0m: assignment destination is read-only"
          ]
        }
      ],
      "source": [
        "arr=np.array([1,2,3,4])\n",
        "arr.flags.writeable=False\n",
        "arr[0]=2\n",
        "arr"
      ]
    },
    {
      "cell_type": "markdown",
      "id": "55df6280",
      "metadata": {
        "id": "55df6280"
      },
      "source": [
        "#### 43. Consider a random 10x2 matrix representing cartesian coordinates, convert them to polar coordinates (★★☆)"
      ]
    },
    {
      "cell_type": "code",
      "execution_count": 42,
      "id": "f1c86ea0",
      "metadata": {
        "colab": {
          "base_uri": "https://localhost:8080/"
        },
        "id": "f1c86ea0",
        "outputId": "552c944d-6219-45b7-a7a3-ad04b7a06bdd"
      },
      "outputs": [
        {
          "name": "stdout",
          "output_type": "stream",
          "text": [
            "The cartesian coordinates :\n",
            "[[0.38926857 0.56263596]\n",
            " [0.61893322 0.48390979]\n",
            " [0.36327221 0.64679368]\n",
            " [0.24645011 0.89506483]\n",
            " [0.60167765 0.63526957]\n",
            " [0.87124145 0.65770966]\n",
            " [0.28456551 0.89462092]\n",
            " [0.53987374 0.99661784]\n",
            " [0.75334112 0.53135181]\n",
            " [0.87506898 0.81407756]] \n",
            "\n",
            "The polar coordinates :\n",
            "[[ 0.38926857 55.32196577]\n",
            " [ 0.61893322 38.01989337]\n",
            " [ 0.36327221 60.67921913]\n",
            " [ 0.24645011 74.60546314]\n",
            " [ 0.60167765 46.55560592]\n",
            " [ 0.87124145 37.04955266]\n",
            " [ 0.28456551 72.35491238]\n",
            " [ 0.53987374 61.55533432]\n",
            " [ 0.75334112 35.19634892]\n",
            " [ 0.87506898 42.93207196]]\n"
          ]
        }
      ],
      "source": [
        "cartesian=np.random.rand(10,2)\n",
        "print(\"The cartesian coordinates :\")\n",
        "print(cartesian,\"\\n\")\n",
        "x = cartesian[:,0]\n",
        "y = cartesian[:,1]\n",
        "\n",
        "r = np.sqrt(x**2,y**2)\n",
        "anglee=np.arctan2(y,x)\n",
        "angle_deg=np.degrees(anglee)\n",
        "polar=np.column_stack((r,angle_deg))\n",
        "print(\"The polar coordinates :\")\n",
        "print(polar)"
      ]
    },
    {
      "cell_type": "markdown",
      "id": "2f60f1ec",
      "metadata": {
        "id": "2f60f1ec"
      },
      "source": [
        "#### 44. Create random vector of size 10 and replace the maximum value by 0 (★★☆)"
      ]
    },
    {
      "cell_type": "code",
      "execution_count": 43,
      "id": "d9f48f1c",
      "metadata": {
        "colab": {
          "base_uri": "https://localhost:8080/"
        },
        "id": "d9f48f1c",
        "outputId": "acd2c4d0-2006-4a00-eec8-2b706029fe30"
      },
      "outputs": [
        {
          "name": "stdout",
          "output_type": "stream",
          "text": [
            "[8 2 3 3 8 9 8 6 4 9]\n",
            "[8 2 3 3 8 0 8 6 4 9]\n"
          ]
        }
      ],
      "source": [
        "matr=np.random.randint(1,10,10)\n",
        "print(matr)\n",
        "maxi=np.argmax(matr)\n",
        "matr[maxi]=0\n",
        "print(matr)"
      ]
    },
    {
      "cell_type": "markdown",
      "id": "084e8ad4",
      "metadata": {
        "id": "084e8ad4"
      },
      "source": [
        "#### 45. Create a structured array with `x` and `y` coordinates covering the [0,1]x[0,1] area (★★☆)"
      ]
    },
    {
      "cell_type": "code",
      "execution_count": 44,
      "id": "58b47c13",
      "metadata": {
        "colab": {
          "base_uri": "https://localhost:8080/"
        },
        "id": "58b47c13",
        "outputId": "68768c35-760b-427b-9ec3-d542e6eb6710"
      },
      "outputs": [
        {
          "name": "stdout",
          "output_type": "stream",
          "text": [
            "[(0.36318615, 0.53030491) (0.01118281, 0.61569622)\n",
            " (0.05827788, 0.83456187) (0.1758301 , 0.68062064)\n",
            " (0.1893212 , 0.87039342) (0.7071534 , 0.8787401 )\n",
            " (0.73185056, 0.42205009) (0.85221474, 0.34635915)\n",
            " (0.55958471, 0.97553532) (0.05028001, 0.39706241)]\n"
          ]
        }
      ],
      "source": [
        "types=[('x',float),('y',float)]\n",
        "coordinates=np.empty(10,dtype=types)\n",
        "coordinates['x']=np.random.rand(10)\n",
        "coordinates['y']=np.random.rand(10)\n",
        "print(coordinates)"
      ]
    },
    {
      "cell_type": "markdown",
      "id": "d7b9bc42",
      "metadata": {
        "id": "d7b9bc42"
      },
      "source": [
        "#### 46. Given two arrays, X and Y, construct the Cauchy matrix C (Cij =1/(xi - yj)) (★★☆)"
      ]
    },
    {
      "cell_type": "code",
      "execution_count": 45,
      "id": "a24824fb",
      "metadata": {
        "colab": {
          "base_uri": "https://localhost:8080/"
        },
        "id": "a24824fb",
        "outputId": "ff0624d3-11e8-4e58-a8a5-ca2df03d57de"
      },
      "outputs": [
        {
          "name": "stdout",
          "output_type": "stream",
          "text": [
            "[[0.16666667 0.2        0.25       0.33333333]\n",
            " [0.14285714 0.16666667 0.2        0.25      ]\n",
            " [0.125      0.14285714 0.16666667 0.2       ]\n",
            " [0.11111111 0.125      0.14285714 0.16666667]]\n"
          ]
        }
      ],
      "source": [
        "array1=np.array([7,8,9,10])\n",
        "array2=np.array([1,2,3,4])\n",
        "u=np.empty((len(array1),len(array2)))\n",
        "for i in range(len(array1)):\n",
        "  for j in range(len(array2)):\n",
        "    if array1[i]-array2[j]!=0:\n",
        "      u[i,j]=1/(array1[i]-array2[j])\n",
        "    else:\n",
        "      print(\"it will give an error because the dividing by zero \")\n",
        "      break\n",
        "print(u)"
      ]
    },
    {
      "cell_type": "markdown",
      "id": "9b317a98",
      "metadata": {
        "id": "9b317a98"
      },
      "source": [
        "#### 47. How to print all the values of an array? (★★☆)"
      ]
    },
    {
      "cell_type": "code",
      "execution_count": 49,
      "id": "309cdeb9",
      "metadata": {
        "colab": {
          "base_uri": "https://localhost:8080/"
        },
        "id": "309cdeb9",
        "outputId": "4ab3d9f8-24cf-4bc3-85bb-38bc85534c7f"
      },
      "outputs": [
        {
          "name": "stdout",
          "output_type": "stream",
          "text": [
            "2\n",
            "3\n",
            "4\n",
            "5\n"
          ]
        }
      ],
      "source": [
        "array3=np.array([2,3,4,5])\n",
        "for i in array3:\n",
        "  print(i)"
      ]
    },
    {
      "cell_type": "markdown",
      "id": "b580f9d0",
      "metadata": {
        "id": "b580f9d0"
      },
      "source": [
        "#### 48. How to find the closest value (to a given scalar) in a vector? (★★☆)"
      ]
    },
    {
      "cell_type": "code",
      "execution_count": 50,
      "id": "ebfb6714",
      "metadata": {
        "colab": {
          "base_uri": "https://localhost:8080/"
        },
        "id": "ebfb6714",
        "outputId": "09bc8719-288f-4f09-e826-7b510710493f"
      },
      "outputs": [
        {
          "name": "stdout",
          "output_type": "stream",
          "text": [
            "1\n"
          ]
        }
      ],
      "source": [
        "scalar=8\n",
        "matrix=np.array([23,-2,34,1])\n",
        "value=matrix[np.argmin(abs(scalar-matrix))]\n",
        "print(value)"
      ]
    },
    {
      "cell_type": "markdown",
      "id": "602e6252",
      "metadata": {
        "id": "602e6252"
      },
      "source": [
        "#### 49. Create a structured array representing a position (x,y) and a color (r,g,b) (★★☆)"
      ]
    },
    {
      "cell_type": "code",
      "execution_count": 51,
      "id": "cf002b3a",
      "metadata": {
        "colab": {
          "base_uri": "https://localhost:8080/"
        },
        "id": "cf002b3a",
        "outputId": "ccaa2c5f-6fce-495c-cca7-dca13036e61b"
      },
      "outputs": [
        {
          "name": "stdout",
          "output_type": "stream",
          "text": [
            "Position 1: (1.0, 2.0)\n",
            "Color: (R=255, G=0, B=0)\n",
            "Position 2: (3.5, 4.5)\n",
            "Color: (R=0, G=255, B=0)\n",
            "Position 3: (0.0, 0.0)\n",
            "Color: (R=0, G=0, B=255)\n"
          ]
        }
      ],
      "source": [
        "types=[('x',float),('y',float),('r',int),('g',int),('b',int)]\n",
        "data = np.array([(1.0, 2.0, 255, 0, 0),(3.5, 4.5, 0, 255, 0),(0.0, 0.0, 0, 0, 255)],dtype=types)\n",
        "print(f\"Position 1: ({data['x'][0]}, {data['y'][0]})\")\n",
        "print(f\"Color: (R={data['r'][0]}, G={data['g'][0]}, B={data['b'][0]})\")\n",
        "print(f\"Position 2: ({data['x'][1]}, {data['y'][1]})\")\n",
        "print(f\"Color: (R={data['r'][1]}, G={data['g'][1]}, B={data['b'][1]})\")\n",
        "print(f\"Position 3: ({data['x'][2]}, {data['y'][2]})\")\n",
        "print(f\"Color: (R={data['r'][2]}, G={data['g'][2]}, B={data['b'][2]})\")"
      ]
    },
    {
      "cell_type": "markdown",
      "id": "78bcd92f",
      "metadata": {
        "id": "78bcd92f"
      },
      "source": [
        "#### 50. Consider a random vector with shape (100,2) representing coordinates, find point by point distances (★★☆)"
      ]
    },
    {
      "cell_type": "code",
      "execution_count": 52,
      "id": "fea7f9a6",
      "metadata": {
        "colab": {
          "base_uri": "https://localhost:8080/"
        },
        "id": "fea7f9a6",
        "outputId": "0f13699c-9ebe-41bf-dccb-95ca714b9153"
      },
      "outputs": [
        {
          "name": "stdout",
          "output_type": "stream",
          "text": [
            "[[0.         0.7475854  0.90738102 ... 0.35396768 0.31055708 0.42584625]\n",
            " [0.7475854  0.         0.19686975 ... 0.83469868 0.49185832 0.65528826]\n",
            " [0.90738102 0.19686975 0.         ... 1.02623254 0.6222253  0.73291164]\n",
            " ...\n",
            " [0.35396768 0.83469868 1.02623254 ... 0.         0.57136691 0.75707398]\n",
            " [0.31055708 0.49185832 0.6222253  ... 0.57136691 0.         0.24024914]\n",
            " [0.42584625 0.65528826 0.73291164 ... 0.75707398 0.24024914 0.        ]]\n"
          ]
        }
      ],
      "source": [
        "random_vector = np.random.rand(100, 2)\n",
        "distances = np.zeros((100, 100))\n",
        "\n",
        "for i in range(100):\n",
        "    for j in range(100):\n",
        "        distances[i, j] = np.sqrt((random_vector[i, 0] - random_vector[j, 0])**2 + (random_vector[i, 1] - random_vector[j, 1])**2)\n",
        "\n",
        "print(distances)"
      ]
    },
    {
      "cell_type": "markdown",
      "id": "343c5a85",
      "metadata": {
        "id": "343c5a85"
      },
      "source": [
        "#### 51. How to convert a float (32 bits) array into an integer (32 bits) in place?"
      ]
    },
    {
      "cell_type": "code",
      "execution_count": 53,
      "id": "fc1b687b",
      "metadata": {
        "colab": {
          "base_uri": "https://localhost:8080/"
        },
        "id": "fc1b687b",
        "outputId": "a5801a2b-40d6-45c1-ef12-5db592cafaae"
      },
      "outputs": [
        {
          "name": "stdout",
          "output_type": "stream",
          "text": [
            "[ 1 23 98  4]\n"
          ]
        }
      ],
      "source": [
        "float_array=np.array([1.99,23.4,98,4],dtype=np.float32)\n",
        "intarray=float_array.astype(np.int32)\n",
        "print(intarray)"
      ]
    },
    {
      "cell_type": "markdown",
      "id": "c23bd80d",
      "metadata": {
        "id": "c23bd80d"
      },
      "source": [
        "#### 52. What is the equivalent of enumerate for numpy arrays? (★★☆)"
      ]
    },
    {
      "cell_type": "code",
      "execution_count": 54,
      "id": "d95d9578",
      "metadata": {
        "colab": {
          "base_uri": "https://localhost:8080/"
        },
        "id": "d95d9578",
        "outputId": "a22d350f-f90a-4e67-a622-c10b90a410f2"
      },
      "outputs": [
        {
          "name": "stdout",
          "output_type": "stream",
          "text": [
            "index (0, 0) , = value 1\n",
            "index (0, 1) , = value 2\n",
            "index (0, 2) , = value 3\n",
            "index (1, 0) , = value 24\n",
            "index (1, 1) , = value 5\n",
            "index (1, 2) , = value 6\n",
            "index (2, 0) , = value 23\n",
            "index (2, 1) , = value 25\n",
            "index (2, 2) , = value 6\n"
          ]
        }
      ],
      "source": [
        "array4=np.array(([1,2,3],[24,5,6],[23,25,6]))\n",
        "for index,value in np.ndenumerate(array4):\n",
        "  print(f\"index {index} , = value {value}\")"
      ]
    },
    {
      "cell_type": "markdown",
      "id": "8b3933eb",
      "metadata": {
        "id": "8b3933eb"
      },
      "source": [
        "#### 53. Subtract the mean of each row of a matrix (★★☆)"
      ]
    },
    {
      "cell_type": "code",
      "execution_count": 55,
      "id": "a306c9ef",
      "metadata": {
        "colab": {
          "base_uri": "https://localhost:8080/"
        },
        "id": "a306c9ef",
        "outputId": "7798a587-ecb5-44b0-fafe-65010d42f4ae"
      },
      "outputs": [
        {
          "name": "stdout",
          "output_type": "stream",
          "text": [
            "[[ 21.  -4.  32.  -1.]\n",
            " [ 18.  -7.  29.  -4.]\n",
            " [ 15. -10.  26.  -7.]]\n"
          ]
        }
      ],
      "source": [
        "matrix22=np.array(([1,2,3],[4,5,6],[7,8,9]))\n",
        "matrix_mean=np.mean(matrix22,axis=1,keepdims=True)\n",
        "matrix2=matrix-matrix_mean\n",
        "print(matrix2)"
      ]
    },
    {
      "cell_type": "markdown",
      "id": "ea8807c0",
      "metadata": {
        "id": "ea8807c0"
      },
      "source": [
        "#### 54. How to sort an array by the nth column? (★★☆)"
      ]
    },
    {
      "cell_type": "code",
      "execution_count": 56,
      "id": "cc89a699",
      "metadata": {
        "id": "cc89a699"
      },
      "outputs": [
        {
          "name": "stdout",
          "output_type": "stream",
          "text": [
            "[[5, 1, 4], [1, 3, 2], [3, 5, 1]]\n"
          ]
        }
      ],
      "source": [
        "arr = [\n",
        " [1, 3, 2],\n",
        " [5, 1, 4],\n",
        " [3, 5, 1]\n",
        "]\n",
        "\n",
        "arr.sort(key=lambda x: x[1])\n",
        "\n",
        "print(arr)"
      ]
    },
    {
      "cell_type": "markdown",
      "id": "00fa00a1",
      "metadata": {
        "id": "00fa00a1"
      },
      "source": [
        "#### 55. How to tell if a given 2D array has null columns? (★★☆)"
      ]
    },
    {
      "cell_type": "code",
      "execution_count": 57,
      "id": "3436e165",
      "metadata": {
        "colab": {
          "base_uri": "https://localhost:8080/"
        },
        "id": "3436e165",
        "outputId": "abb4d3c4-288e-49ad-d666-2375e4cb3c61"
      },
      "outputs": [
        {
          "name": "stdout",
          "output_type": "stream",
          "text": [
            "this array has null columns \n"
          ]
        }
      ],
      "source": [
        "array=np.array(([1,0,1],[3,0,1],[23,0,3]))\n",
        "null1=np.all(array==0,axis=0)\n",
        "if np.any(null1):\n",
        "  print(\"this array has null columns \")\n",
        "else:\n",
        "  print(\"this array does not have null columns\")"
      ]
    },
    {
      "cell_type": "markdown",
      "id": "5a65c7a2",
      "metadata": {
        "id": "5a65c7a2"
      },
      "source": [
        "#### 56. Find the nearest value from a given value in an array (★★☆)"
      ]
    },
    {
      "cell_type": "code",
      "execution_count": 58,
      "id": "73f149d6",
      "metadata": {
        "colab": {
          "base_uri": "https://localhost:8080/"
        },
        "id": "73f149d6",
        "outputId": "72369493-a466-495a-b2ee-66ca926bd505"
      },
      "outputs": [
        {
          "name": "stdout",
          "output_type": "stream",
          "text": [
            "3\n"
          ]
        }
      ],
      "source": [
        "matrix4=np.array([12,3,10,8])\n",
        "value = 1\n",
        "abss=np.abs(matrix4-value)\n",
        "nearest_ind=np.argmin(abss)\n",
        "nearest_value=matrix4[nearest_ind]\n",
        "print(nearest_value)"
      ]
    },
    {
      "cell_type": "markdown",
      "id": "dd83e8af",
      "metadata": {
        "id": "dd83e8af"
      },
      "source": [
        "#### 57. Considering two arrays with shape (1,3) and (3,1), how to compute their sum using an iterator? (★★☆)"
      ]
    },
    {
      "cell_type": "code",
      "execution_count": 59,
      "id": "29a709a1",
      "metadata": {
        "colab": {
          "base_uri": "https://localhost:8080/"
        },
        "id": "29a709a1",
        "outputId": "dfb37f6d-9bfc-4ac8-fdc9-6807eb2a1898"
      },
      "outputs": [
        {
          "name": "stdout",
          "output_type": "stream",
          "text": [
            "[[2 3 4]]\n",
            "[[7]\n",
            " [8]\n",
            " [9]]\n",
            "[[30. 33. 36.]]\n"
          ]
        }
      ],
      "source": [
        "array2=np.array([[2,3,4]])\n",
        "array5=np.array([[7],[8],[9]])\n",
        "shape_arr2=array2.shape\n",
        "shape_arr5=array5.shape\n",
        "result=np.zeros((1,3))\n",
        "if shape_arr2==(1,3) and shape_arr5==(3,1):\n",
        "  for i in range(3):\n",
        "    for j in range(3):\n",
        "      result[0,i] +=array2[0,i]+array5[j,0]\n",
        "print(array2)\n",
        "print(array5)\n",
        "print(result)"
      ]
    },
    {
      "cell_type": "markdown",
      "id": "6c042efa",
      "metadata": {
        "id": "6c042efa"
      },
      "source": [
        "#### 58. Create an array class that has a name attribute (★★☆)"
      ]
    },
    {
      "cell_type": "code",
      "execution_count": 60,
      "id": "45b3d2e0",
      "metadata": {
        "colab": {
          "base_uri": "https://localhost:8080/"
        },
        "id": "45b3d2e0",
        "outputId": "85e1f651-a92f-483f-8e9f-56db1c3c53bd"
      },
      "outputs": [
        {
          "name": "stdout",
          "output_type": "stream",
          "text": [
            "The name if the array : Array\n",
            "This array contains : [2 4 5]\n"
          ]
        }
      ],
      "source": [
        "class arrays:\n",
        "  def __init__(self,name,data):\n",
        "    self.name=name\n",
        "    self.data=np.array(data)\n",
        "name=\"Array\"\n",
        "num=[2,4,5]\n",
        "array2=arrays(name,num)\n",
        "print(\"The name if the array :\",array2.name)\n",
        "print(\"This array contains :\",array2.data)"
      ]
    },
    {
      "cell_type": "markdown",
      "id": "0a075c3d",
      "metadata": {
        "id": "0a075c3d"
      },
      "source": [
        "#### 59. Consider a given vector, how to add 1 to each element indexed by a second vector (be careful with repeated indices)? (★★★)"
      ]
    },
    {
      "cell_type": "code",
      "execution_count": 61,
      "id": "36c50470",
      "metadata": {
        "colab": {
          "base_uri": "https://localhost:8080/"
        },
        "id": "36c50470",
        "outputId": "70094a1a-95f8-4217-e785-9bd45c22e43e"
      },
      "outputs": [
        {
          "name": "stdout",
          "output_type": "stream",
          "text": [
            "[2, 5, 1, 4, 8, 2]\n"
          ]
        }
      ],
      "source": [
        "vector1 = [2, 4, 1, 3, 6, 2]\n",
        "index_vector = [1, 3, 4, 4]\n",
        "index_count = {}\n",
        "for index in index_vector:\n",
        "    if index in index_count:\n",
        "        index_count[index] += 1\n",
        "    else:\n",
        "        index_count[index] = 1\n",
        "for index, count in index_count.items():\n",
        "    vector1[index] += count\n",
        "print(vector1)"
      ]
    },
    {
      "cell_type": "markdown",
      "id": "0fb2f0c5",
      "metadata": {
        "id": "0fb2f0c5"
      },
      "source": [
        "#### 60. How to accumulate elements of a vector (X) to an array (F) based on an index list (I)? (★★★)"
      ]
    },
    {
      "cell_type": "code",
      "execution_count": 62,
      "id": "58aa5f82",
      "metadata": {
        "colab": {
          "base_uri": "https://localhost:8080/"
        },
        "id": "58aa5f82",
        "outputId": "b62e810d-d162-4187-d892-ac250e94034c"
      },
      "outputs": [
        {
          "name": "stdout",
          "output_type": "stream",
          "text": [
            "[3. 1. 2. 4. 3.]\n"
          ]
        }
      ],
      "source": [
        "X = np.array([1, 2, 3, 4, 5])\n",
        "I = [2, 0, 1, 3, 2]\n",
        "n = len(I)\n",
        "F = np.zeros(n)\n",
        "for i in range(n):\n",
        "    F[i] += X[I[i]]\n",
        "print(F)"
      ]
    },
    {
      "cell_type": "markdown",
      "id": "535a5d81",
      "metadata": {
        "id": "535a5d81"
      },
      "source": [
        "#### 61. Considering a four dimensions array, how to get sum over the last two axis at once? (★★★)"
      ]
    },
    {
      "cell_type": "code",
      "execution_count": 63,
      "id": "f954ab9d",
      "metadata": {
        "colab": {
          "base_uri": "https://localhost:8080/"
        },
        "id": "f954ab9d",
        "outputId": "60a52bf0-c116-4288-f470-59d990d605c5"
      },
      "outputs": [
        {
          "name": "stdout",
          "output_type": "stream",
          "text": [
            "(4, 3, 2, 2)\n",
            "[[[[0.62610914 0.67931015]\n",
            "   [0.05091542 0.96521273]]\n",
            "\n",
            "  [[0.00121942 0.36533196]\n",
            "   [0.06836203 0.0148265 ]]\n",
            "\n",
            "  [[0.36686111 0.36511006]\n",
            "   [0.49634855 0.68163842]]]\n",
            "\n",
            "\n",
            " [[[0.34315805 0.07327088]\n",
            "   [0.82150494 0.11668615]]\n",
            "\n",
            "  [[0.27916266 0.61161209]\n",
            "   [0.53493933 0.89890181]]\n",
            "\n",
            "  [[0.60777257 0.91855243]\n",
            "   [0.26846069 0.66027166]]]\n",
            "\n",
            "\n",
            " [[[0.025792   0.01186103]\n",
            "   [0.28646814 0.64305881]]\n",
            "\n",
            "  [[0.00905243 0.33432096]\n",
            "   [0.49391976 0.06727385]]\n",
            "\n",
            "  [[0.50973235 0.45715054]\n",
            "   [0.14857606 0.18234034]]]\n",
            "\n",
            "\n",
            " [[[0.840465   0.24525299]\n",
            "   [0.66653476 0.57255125]]\n",
            "\n",
            "  [[0.76578642 0.68571927]\n",
            "   [0.83181027 0.05704373]]\n",
            "\n",
            "  [[0.34462276 0.62652883]\n",
            "   [0.59294378 0.81253804]]]]\n",
            "\n",
            "[[2.32154743 0.4497399  1.90995814]\n",
            " [1.35462001 2.32461588 2.45505736]\n",
            " [0.96717998 0.904567   1.29779929]\n",
            " [2.324804   2.34035969 2.3766334 ]]\n"
          ]
        }
      ],
      "source": [
        "arr=np.random.rand(4,3,2,2)\n",
        "print(arr.shape)\n",
        "summing=np.sum(arr,axis=(2,3))\n",
        "print(arr)\n",
        "print()\n",
        "print(summing)"
      ]
    },
    {
      "cell_type": "markdown",
      "id": "f90d4c40",
      "metadata": {
        "id": "f90d4c40"
      },
      "source": [
        "#### 62. How to get the diagonal of a dot product? (★★★)"
      ]
    },
    {
      "cell_type": "code",
      "execution_count": 64,
      "id": "b47d392d",
      "metadata": {
        "colab": {
          "base_uri": "https://localhost:8080/"
        },
        "id": "b47d392d",
        "outputId": "553cde53-5032-465a-b9ab-35b93993b948"
      },
      "outputs": [
        {
          "name": "stdout",
          "output_type": "stream",
          "text": [
            "array1 \n",
            " [[2 3]\n",
            " [8 4]]\n",
            "array2 \n",
            " [[ 7 10]\n",
            " [ 2  5]]\n",
            "the dot product : \n",
            " [[ 20  35]\n",
            " [ 64 100]]\n",
            "the diagonal : \n",
            " [ 20 100]\n"
          ]
        }
      ],
      "source": [
        "array6=np.array([[2,3],[8,4]])\n",
        "array8=np.array([[7,10],[2,5]])\n",
        "dot_product=np.dot(array6,array8)\n",
        "diagonal=np.diag(dot_product)\n",
        "print(\"array1 \\n\",array6)\n",
        "print(\"array2 \\n\",array8)\n",
        "print(\"the dot product : \\n\",dot_product)\n",
        "print(\"the diagonal : \\n\",diagonal)"
      ]
    },
    {
      "cell_type": "markdown",
      "id": "a8a97e7d",
      "metadata": {
        "id": "a8a97e7d"
      },
      "source": [
        "#### 63. Consider the vector [1, 2, 3, 4, 5], how to build a new vector with 3 consecutive zeros interleaved between each value? (★★★)"
      ]
    },
    {
      "cell_type": "code",
      "execution_count": 65,
      "id": "ee6c6c37",
      "metadata": {
        "colab": {
          "base_uri": "https://localhost:8080/"
        },
        "id": "ee6c6c37",
        "outputId": "c26896e4-a179-46fd-a328-9358127950b0"
      },
      "outputs": [
        {
          "name": "stdout",
          "output_type": "stream",
          "text": [
            "[2. 0. 0. 0. 3. 0. 0. 0. 4.]\n"
          ]
        }
      ],
      "source": [
        "arr1=np.array([2,3,4])\n",
        "length=len(arr1)+(len(arr1)-1)*3\n",
        "arr2=np.zeros(length)\n",
        "arr2[::4]=arr1\n",
        "print(arr2)"
      ]
    },
    {
      "cell_type": "markdown",
      "id": "d6a30d60",
      "metadata": {
        "id": "d6a30d60"
      },
      "source": [
        "#### 64. Consider an array of dimension (5,5,3), how to mulitply it by an array with dimensions (5,5)? (★★★)"
      ]
    },
    {
      "cell_type": "code",
      "execution_count": 66,
      "id": "e9703f2e",
      "metadata": {
        "colab": {
          "base_uri": "https://localhost:8080/"
        },
        "id": "e9703f2e",
        "outputId": "0f96e4e3-ecf9-4d59-ba6e-c1d52249bd5a"
      },
      "outputs": [
        {
          "name": "stdout",
          "output_type": "stream",
          "text": [
            "(5, 5, 3)\n",
            "(5, 5)\n",
            "(5, 5, 3)\n"
          ]
        }
      ],
      "source": [
        "array1 = np.random.rand(5, 5, 3)\n",
        "array2 = np.random.rand(5, 5)\n",
        "result = array1 * array2[:, :, np.newaxis]\n",
        "print(array1.shape)\n",
        "print(array2.shape)\n",
        "print(result.shape)"
      ]
    },
    {
      "cell_type": "markdown",
      "id": "bac359a9",
      "metadata": {
        "id": "bac359a9"
      },
      "source": [
        "#### 65. How to swap two rows of an array? (★★★)"
      ]
    },
    {
      "cell_type": "code",
      "execution_count": 68,
      "id": "f1b432b1",
      "metadata": {
        "colab": {
          "base_uri": "https://localhost:8080/"
        },
        "id": "f1b432b1",
        "outputId": "2d1342a5-11ed-4b11-9482-99b72edd43d9"
      },
      "outputs": [
        {
          "name": "stdout",
          "output_type": "stream",
          "text": [
            "[[ 1  2  3]\n",
            " [ 4  5  6]\n",
            " [10 11 11]\n",
            " [ 7  8  9]]\n"
          ]
        }
      ],
      "source": [
        "arr = np.array([[1, 2, 3],[4, 5, 6],[7, 8, 9],[10,11,11]])\n",
        "i = int(input(\"Enter the index of row you want to swap : \"))\n",
        "j = int(input(\"Enter the index of row you want to swap : \"))\n",
        "\n",
        "arr[i], arr[j] = arr[j].copy(), arr[i].copy()\n",
        "\n",
        "print(arr)"
      ]
    },
    {
      "cell_type": "markdown",
      "id": "a76c55a2",
      "metadata": {
        "id": "a76c55a2"
      },
      "source": [
        "#### 66. Given a sorted array C that corresponds to a bincount, how to produce an array A such that np.bincount(A) == C? (★★★)"
      ]
    },
    {
      "cell_type": "code",
      "execution_count": 69,
      "id": "2d2ae65a",
      "metadata": {
        "colab": {
          "base_uri": "https://localhost:8080/"
        },
        "id": "2d2ae65a",
        "outputId": "29b8d4bb-a46e-471c-e469-8fee83cd7090"
      },
      "outputs": [
        {
          "name": "stdout",
          "output_type": "stream",
          "text": [
            "C: [0 2 1 1 0 1]\n",
            "A: [1 1 2 3 5]\n",
            "Result of np.bincount(A): [0 2 1 1 0 1]\n"
          ]
        }
      ],
      "source": [
        "def generate_array_C(C):\n",
        "    max_count = len(C) - 1\n",
        "    A = []\n",
        "    for count, freq in enumerate(C):\n",
        "        A.extend([count] * freq)\n",
        "    return np.array(A[:max_count])\n",
        "\n",
        "C = np.array([0, 2, 1, 1, 0, 1])\n",
        "A = generate_array_C(C)\n",
        "print(\"C:\", C)\n",
        "print(\"A:\", A)\n",
        "print(\"Result of np.bincount(A):\", np.bincount(A))"
      ]
    },
    {
      "cell_type": "markdown",
      "id": "e94a5c1d",
      "metadata": {
        "id": "e94a5c1d"
      },
      "source": [
        "#### 67. How to negate a boolean, or to change the sign of a float inplace? (★★★)"
      ]
    },
    {
      "cell_type": "code",
      "execution_count": 70,
      "id": "c0f9504f",
      "metadata": {
        "colab": {
          "base_uri": "https://localhost:8080/"
        },
        "id": "c0f9504f",
        "outputId": "2e6a55b2-102d-4adf-f47b-d4a8c9b15687"
      },
      "outputs": [
        {
          "name": "stdout",
          "output_type": "stream",
          "text": [
            "False\n",
            "-4.0\n"
          ]
        }
      ],
      "source": [
        "#boolean\n",
        "boolean= True\n",
        "boolean = not True\n",
        "print(boolean)\n",
        "#float\n",
        "floatt=4.0\n",
        "floatt=-floatt\n",
        "print(floatt)"
      ]
    },
    {
      "cell_type": "markdown",
      "id": "4c15ceff",
      "metadata": {
        "id": "4c15ceff"
      },
      "source": [
        "#### 68. Compute a matrix rank (★★★)"
      ]
    },
    {
      "cell_type": "code",
      "execution_count": 71,
      "id": "9a4272d2",
      "metadata": {
        "colab": {
          "base_uri": "https://localhost:8080/"
        },
        "id": "9a4272d2",
        "outputId": "2473c64d-78f5-4ab5-f10e-400f572c9d25"
      },
      "outputs": [
        {
          "name": "stdout",
          "output_type": "stream",
          "text": [
            "Matrix A:\n",
            "[[1 2 3]\n",
            " [4 5 6]\n",
            " [7 8 9]]\n",
            "Rank of the matrix: 2\n"
          ]
        }
      ],
      "source": [
        "matrix = np.array([[1, 2, 3],[4, 5, 6],[7, 8, 9]])\n",
        "rank = np.linalg.matrix_rank(matrix)\n",
        "print(\"Matrix A:\")\n",
        "print(matrix)\n",
        "print(f\"Rank of the matrix: {rank}\")"
      ]
    },
    {
      "cell_type": "markdown",
      "id": "1171cb84",
      "metadata": {
        "id": "1171cb84"
      },
      "source": [
        "#### 67. How to find the most frequent value in an array?"
      ]
    },
    {
      "cell_type": "code",
      "execution_count": 72,
      "id": "33e951c8",
      "metadata": {
        "colab": {
          "base_uri": "https://localhost:8080/"
        },
        "id": "33e951c8",
        "outputId": "f5371e0d-6e78-4dca-f91b-bb992f3ec112"
      },
      "outputs": [
        {
          "name": "stdout",
          "output_type": "stream",
          "text": [
            "4\n"
          ]
        }
      ],
      "source": [
        "arr=np.array([1,2,4,2,4,1,4,4,6])\n",
        "most_frequent=np.bincount(arr).argmax()\n",
        "print(most_frequent)"
      ]
    },
    {
      "cell_type": "markdown",
      "id": "04f472aa",
      "metadata": {
        "id": "04f472aa"
      },
      "source": [
        "#### 68. Extract all the contiguous 3x3 blocks from a random 10x10 matrix (★★★)"
      ]
    },
    {
      "cell_type": "code",
      "execution_count": 73,
      "id": "7aade14a",
      "metadata": {
        "colab": {
          "base_uri": "https://localhost:8080/"
        },
        "id": "7aade14a",
        "outputId": "b597d435-3de4-41d0-9b6c-c44042d98b7a"
      },
      "outputs": [
        {
          "name": "stdout",
          "output_type": "stream",
          "text": [
            "First 3x3 block:\n",
            "[[7.96366714 7.76328248 4.85083365]\n",
            " [3.88361003 2.07274777 5.71397838]\n",
            " [1.65805202 6.4453212  1.98773397]]\n",
            "\n",
            "Second 3x3 block:\n",
            "[[7.76328248 4.85083365 3.12561818]\n",
            " [2.07274777 5.71397838 3.64526341]\n",
            " [6.4453212  1.98773397 4.47581694]]\n"
          ]
        }
      ],
      "source": [
        "matrix = np.random.rand(10, 10) *10\n",
        "\n",
        "blocks = []\n",
        "\n",
        "for i in range(8):\n",
        "    for j in range(8):\n",
        "        block = matrix[i:i+3, j:j+3]\n",
        "        blocks.append(block)\n",
        "print(\"First 3x3 block:\")\n",
        "print(blocks[0])\n",
        "print()\n",
        "print(\"Second 3x3 block:\")\n",
        "print(blocks[1])"
      ]
    },
    {
      "cell_type": "markdown",
      "id": "69a892fa",
      "metadata": {
        "id": "69a892fa"
      },
      "source": [
        "#### 69. How to get the n largest values of an array (★★★)"
      ]
    },
    {
      "cell_type": "code",
      "execution_count": 74,
      "id": "21b2bd48",
      "metadata": {
        "colab": {
          "base_uri": "https://localhost:8080/"
        },
        "id": "21b2bd48",
        "outputId": "50942a67-0228-4a16-ebac-4d0a5ddf35c3"
      },
      "outputs": [
        {
          "name": "stdout",
          "output_type": "stream",
          "text": [
            "[20]\n"
          ]
        }
      ],
      "source": [
        "import numpy as np\n",
        "my_list = [10, 5, 8, 20, 1, 6]\n",
        "n_largest = sorted(my_list, reverse=True)[:1]\n",
        "print(n_largest)"
      ]
    },
    {
      "cell_type": "markdown",
      "id": "aa70d4ca",
      "metadata": {
        "id": "aa70d4ca"
      },
      "source": [
        "#### 70. Consider a large vector Z, compute Z to the power of 3 using 3 different methods (★★★)"
      ]
    },
    {
      "cell_type": "code",
      "execution_count": 76,
      "id": "7cff1bf5",
      "metadata": {
        "colab": {
          "base_uri": "https://localhost:8080/"
        },
        "id": "7cff1bf5",
        "outputId": "edec0e2b-e491-4d93-e848-de091f3cbaa2"
      },
      "outputs": [
        {
          "name": "stdout",
          "output_type": "stream",
          "text": [
            "method 1 :  [ 8 27 64]\n",
            "method 2 :  [ 8 27 64]\n",
            "method 3 :  [8, 27, 64]\n"
          ]
        }
      ],
      "source": [
        "Z=np.array([2,3,4])\n",
        "method_1=np.power(Z,3)\n",
        "print(\"method 1 : \",method_1)\n",
        "method_2= Z**3\n",
        "print(\"method 2 : \",method_2)\n",
        "method_3=[x**3 for x in Z]\n",
        "print(\"method 3 : \" ,method_3)"
      ]
    },
    {
      "cell_type": "markdown",
      "id": "a80570cd",
      "metadata": {
        "id": "a80570cd"
      },
      "source": [
        "#### 71. Considering a 10x3 matrix, extract rows with unequal values (e.g. [2,2,3]) (★★★)"
      ]
    },
    {
      "cell_type": "code",
      "execution_count": 77,
      "id": "84db8de1",
      "metadata": {
        "colab": {
          "base_uri": "https://localhost:8080/"
        },
        "id": "84db8de1",
        "outputId": "82bc911e-4a0c-41ca-cb73-cbd9d1189392"
      },
      "outputs": [
        {
          "name": "stdout",
          "output_type": "stream",
          "text": [
            "[[ 2  2  2]\n",
            " [ 3  3  4]\n",
            " [ 4  4  4]\n",
            " [ 5  5  6]\n",
            " [ 6  6  6]\n",
            " [ 7  7  8]\n",
            " [ 8  8  8]\n",
            " [ 9  9  9]\n",
            " [10 10 10]]\n"
          ]
        }
      ],
      "source": [
        "matrix = np.array([[1, 1, 1],[2, 2, 2],[3, 3, 4],[4, 4, 4],[5, 5, 6],[6, 6, 6],[7, 7, 8],[8, 8, 8],[9, 9, 9],[10, 10, 10]])\n",
        "\n",
        "unequal_rows = matrix[~np.all(matrix == matrix[0], axis=1)]\n",
        "\n",
        "print(unequal_rows)"
      ]
    },
    {
      "cell_type": "markdown",
      "id": "420e2343",
      "metadata": {
        "id": "420e2343"
      },
      "source": [
        "#### 72. Given a two dimensional array, how to extract unique rows? (★★★)"
      ]
    },
    {
      "cell_type": "code",
      "execution_count": 78,
      "id": "4680dfd0",
      "metadata": {
        "colab": {
          "base_uri": "https://localhost:8080/"
        },
        "id": "4680dfd0",
        "outputId": "6d5d530b-829d-4534-829a-93f507b38266"
      },
      "outputs": [
        {
          "name": "stdout",
          "output_type": "stream",
          "text": [
            "[[ 1  2  4]\n",
            " [22  5  3]\n",
            " [ 1  2  4]\n",
            " [ 1  8  7]]\n",
            "[[ 1  2  4]\n",
            " [ 1  8  7]\n",
            " [22  5  3]]\n"
          ]
        }
      ],
      "source": [
        "arr=np.array([[1,2,4],[22,5,3],[1,2,4],[1,8,7]])\n",
        "unique_row=np.unique(arr,axis=0)\n",
        "print(arr)\n",
        "print(unique_row)"
      ]
    },
    {
      "cell_type": "markdown",
      "id": "89fef2f3",
      "metadata": {
        "id": "89fef2f3"
      },
      "source": [
        "#### 73. Considering 2 vectors A & B, write the einsum equivalent of inner, outer, sum, and mul function (★★★)"
      ]
    },
    {
      "cell_type": "code",
      "execution_count": 79,
      "id": "bb9c14b2",
      "metadata": {
        "colab": {
          "base_uri": "https://localhost:8080/"
        },
        "id": "bb9c14b2",
        "outputId": "4d079100-7479-438d-e8c8-407e17d79799"
      },
      "outputs": [
        {
          "name": "stdout",
          "output_type": "stream",
          "text": [
            "inner :  100\n",
            "\n",
            "outer : \n",
            " [[ 2  6 10 14]\n",
            " [ 4 12 20 28]\n",
            " [ 6 18 30 42]\n",
            " [ 8 24 40 56]]\n",
            "\n",
            "sum :  [ 3  7 11 15]\n",
            "\n",
            "multiplication :  [ 2 12 30 56]\n"
          ]
        }
      ],
      "source": [
        "A=np.array([2,4,6,8])\n",
        "B=np.array([1,3,5,7])\n",
        "\n",
        "inner=np.einsum('i,i->', A, B)\n",
        "print(\"inner : \",inner)\n",
        "print()\n",
        "outer=np.einsum('i,j->ij', A, B)\n",
        "print(\"outer : \\n\",outer)\n",
        "print()\n",
        "sum=np.einsum('i->i', A + B)\n",
        "print(\"sum : \",sum)\n",
        "print()\n",
        "mul=np.einsum('i->i', A * B)\n",
        "print(\"multiplication : \",mul)"
      ]
    }
  ],
  "metadata": {
    "colab": {
      "provenance": []
    },
    "kernelspec": {
      "display_name": "Python 3",
      "name": "python3"
    },
    "language_info": {
      "codemirror_mode": {
        "name": "ipython",
        "version": 3
      },
      "file_extension": ".py",
      "mimetype": "text/x-python",
      "name": "python",
      "nbconvert_exporter": "python",
      "pygments_lexer": "ipython3",
      "version": "3.11.2"
    }
  },
  "nbformat": 4,
  "nbformat_minor": 5
}
